{
  "nbformat": 4,
  "nbformat_minor": 0,
  "metadata": {
    "colab": {
      "provenance": [],
      "authorship_tag": "ABX9TyMSd69ylmM1PirRpde4J13Y",
      "include_colab_link": true
    },
    "kernelspec": {
      "name": "python3",
      "display_name": "Python 3"
    },
    "language_info": {
      "name": "python"
    }
  },
  "cells": [
    {
      "cell_type": "markdown",
      "metadata": {
        "id": "view-in-github",
        "colab_type": "text"
      },
      "source": [
        "<a href=\"https://colab.research.google.com/github/Sukrit888/AI-ML-Healthcare-/blob/main/Code_notebook.ipynb\" target=\"_parent\"><img src=\"https://colab.research.google.com/assets/colab-badge.svg\" alt=\"Open In Colab\"/></a>"
      ]
    },
    {
      "cell_type": "code",
      "execution_count": null,
      "metadata": {
        "colab": {
          "base_uri": "https://localhost:8080/"
        },
        "id": "Qx6vcdZXRaKh",
        "outputId": "9272c174-ca21-4751-ada3-bae30d03e4e1"
      },
      "outputs": [
        {
          "output_type": "stream",
          "name": "stdout",
          "text": [
            "Collecting boto3\n",
            "  Downloading boto3-1.34.112-py3-none-any.whl (139 kB)\n",
            "\u001b[2K     \u001b[90m━━━━━━━━━━━━━━━━━━━━━━━━━━━━━━━━━━━━━━━━\u001b[0m \u001b[32m139.3/139.3 kB\u001b[0m \u001b[31m2.1 MB/s\u001b[0m eta \u001b[36m0:00:00\u001b[0m\n",
            "\u001b[?25hCollecting botocore<1.35.0,>=1.34.112 (from boto3)\n",
            "  Downloading botocore-1.34.112-py3-none-any.whl (12.3 MB)\n",
            "\u001b[2K     \u001b[90m━━━━━━━━━━━━━━━━━━━━━━━━━━━━━━━━━━━━━━━━\u001b[0m \u001b[32m12.3/12.3 MB\u001b[0m \u001b[31m24.1 MB/s\u001b[0m eta \u001b[36m0:00:00\u001b[0m\n",
            "\u001b[?25hCollecting jmespath<2.0.0,>=0.7.1 (from boto3)\n",
            "  Downloading jmespath-1.0.1-py3-none-any.whl (20 kB)\n",
            "Collecting s3transfer<0.11.0,>=0.10.0 (from boto3)\n",
            "  Downloading s3transfer-0.10.1-py3-none-any.whl (82 kB)\n",
            "\u001b[2K     \u001b[90m━━━━━━━━━━━━━━━━━━━━━━━━━━━━━━━━━━━━━━━━\u001b[0m \u001b[32m82.2/82.2 kB\u001b[0m \u001b[31m6.4 MB/s\u001b[0m eta \u001b[36m0:00:00\u001b[0m\n",
            "\u001b[?25hRequirement already satisfied: python-dateutil<3.0.0,>=2.1 in /usr/local/lib/python3.10/dist-packages (from botocore<1.35.0,>=1.34.112->boto3) (2.8.2)\n",
            "Requirement already satisfied: urllib3!=2.2.0,<3,>=1.25.4 in /usr/local/lib/python3.10/dist-packages (from botocore<1.35.0,>=1.34.112->boto3) (2.0.7)\n",
            "Requirement already satisfied: six>=1.5 in /usr/local/lib/python3.10/dist-packages (from python-dateutil<3.0.0,>=2.1->botocore<1.35.0,>=1.34.112->boto3) (1.16.0)\n",
            "Installing collected packages: jmespath, botocore, s3transfer, boto3\n",
            "Successfully installed boto3-1.34.112 botocore-1.34.112 jmespath-1.0.1 s3transfer-0.10.1\n"
          ]
        }
      ],
      "source": [
        "!pip install boto3"
      ]
    },
    {
      "cell_type": "code",
      "source": [
        "import boto3\n",
        "\n",
        "# Configure AWS credentials\n",
        "aws_access_key_id = 'YOUR AWS ACCESS KEY ID'\n",
        "aws_secret_access_key = 'YOUR SECRET AWS ACCESS KEY'\n",
        "region_name = 'YOUR REGION'\n",
        "\n",
        "# Create a session\n",
        "session = boto3.Session(\n",
        "    aws_access_key_id=aws_access_key_id,\n",
        "    aws_secret_access_key=aws_secret_access_key,\n",
        "    region_name=region_name\n",
        ")\n",
        "\n",
        "# Access S3\n",
        "s3 = session.resource('s3')\n",
        "bucket = s3.Bucket('pdf-input-bucket')"
      ],
      "metadata": {
        "id": "64uOU7TgRo5e"
      },
      "execution_count": null,
      "outputs": []
    },
    {
      "cell_type": "code",
      "source": [
        "import boto3\n",
        "\n",
        "# Initialize Textract client\n",
        "textract = boto3.client('textract',\n",
        "                        aws_access_key_id='YOUR AWS ACCESS KEY ID',\n",
        "                        aws_secret_access_key='YOUR SECRET AWS ACCESS KEY',\n",
        "                        region_name='YOUR REGION')\n",
        "\n",
        "# Start Document Analysis\n",
        "response = textract.start_document_analysis(\n",
        "    DocumentLocation={'S3Object': {'Bucket': 'pdf-input-bucket', 'Name': 'SampleEOB5.pdf'}},\n",
        "    FeatureTypes=[\"FORMS\"]\n",
        ")\n",
        "job_id = response['JobId']\n"
      ],
      "metadata": {
        "id": "n24x_RjvTdOt"
      },
      "execution_count": null,
      "outputs": []
    },
    {
      "cell_type": "code",
      "source": [
        "import time\n",
        "\n",
        "def check_job_status(job_id):\n",
        "    while True:\n",
        "        response = textract.get_document_analysis(JobId=job_id)\n",
        "        status = response['JobStatus']\n",
        "        if status in ['SUCCEEDED', 'FAILED']:\n",
        "            break\n",
        "        time.sleep(5)\n",
        "    return response\n",
        "\n",
        "response = check_job_status(job_id)\n"
      ],
      "metadata": {
        "id": "N_bhNV-SW1GL"
      },
      "execution_count": null,
      "outputs": []
    },
    {
      "cell_type": "code",
      "source": [
        "import boto3\n",
        "\n",
        "# Initialize S3 client\n",
        "s3 = boto3.client('s3',\n",
        "                  aws_access_key_id='YOUR AWS KEY ID',\n",
        "                  aws_secret_access_key='YOUR AWS SECRET ACCESS KEY',\n",
        "                  region_name='YOUR REGION')\n",
        "\n",
        "# List all buckets\n",
        "response = s3.list_buckets()\n",
        "buckets = [bucket['Name'] for bucket in response['Buckets']]\n",
        "print(\"Existing buckets:\", buckets)"
      ],
      "metadata": {
        "id": "E05qUJW3W499",
        "colab": {
          "base_uri": "https://localhost:8080/"
        },
        "outputId": "5069ddfd-80cc-4f82-e662-68be685f7609"
      },
      "execution_count": null,
      "outputs": [
        {
          "output_type": "stream",
          "name": "stdout",
          "text": [
            "Existing buckets: ['pdf-input-bucket', 'pdf-output-bucket']\n"
          ]
        }
      ]
    },
    {
      "cell_type": "code",
      "source": [
        "# Create output bucket if it doesn't exist\n",
        "output_bucket_name = 'pdf-output-bucket'\n",
        "region = 'us-east-1'  # Ensure this is the same region as your input bucket\n",
        "\n",
        "# Create the bucket\n",
        "try:\n",
        "    s3.create_bucket(\n",
        "        Bucket=output_bucket_name,\n",
        "        CreateBucketConfiguration={'LocationConstraint': region}\n",
        "    )\n",
        "    print(f\"Bucket {output_bucket_name} created successfully.\")\n",
        "except s3.exceptions.BucketAlreadyOwnedByYou:\n",
        "    print(f\"Bucket {output_bucket_name} already exists.\")\n",
        "except Exception as e:\n",
        "    print(f\"Error creating bucket: {e}\")"
      ],
      "metadata": {
        "colab": {
          "base_uri": "https://localhost:8080/"
        },
        "id": "h_txGGB27ir8",
        "outputId": "6c46ce50-09ee-47d9-b3f5-bc833c50b779"
      },
      "execution_count": null,
      "outputs": [
        {
          "output_type": "stream",
          "name": "stdout",
          "text": [
            "Error creating bucket: An error occurred (InvalidLocationConstraint) when calling the CreateBucket operation: The specified location-constraint is not valid\n"
          ]
        }
      ]
    },
    {
      "cell_type": "code",
      "source": [
        "import boto3\n",
        "import json\n",
        "import time\n",
        "\n",
        "# Initialize Textract client\n",
        "textract = boto3.client('textract',\n",
        "                        aws_access_key_id='YOUR AWS ACCESS KEY ID',\n",
        "                        aws_secret_access_key='YOUR AWS SECRET ACCESS KEY',\n",
        "                        region_name='YOUR REGION')\n",
        "\n",
        "# Start Document Analysis\n",
        "response = textract.start_document_analysis(\n",
        "    DocumentLocation={'S3Object': {'Bucket': 'pdf-input-bucket', 'Name': 'SampleEOB5.pdf'}},\n",
        "    FeatureTypes=[\"FORMS\"]\n",
        ")\n",
        "job_id = response['JobId']\n",
        "print(\"Job started with ID:\", job_id)\n",
        "\n",
        "# Wait for the job to complete\n",
        "def check_job_status(job_id):\n",
        "    while True:\n",
        "        response = textract.get_document_analysis(JobId=job_id)\n",
        "        status = response['JobStatus']\n",
        "        if status in ['SUCCEEDED', 'FAILED']:\n",
        "            return response\n",
        "        time.sleep(5)\n",
        "\n",
        "response = check_job_status(job_id)\n",
        "print(\"Job completed with status:\", response['JobStatus'])\n",
        "\n",
        "if response['JobStatus'] == 'SUCCEEDED':\n",
        "    # Check if 'Blocks' is in the response\n",
        "    if 'Blocks' in response:\n",
        "        # Extract form data\n",
        "        blocks = response['Blocks']\n",
        "        form_data = [block for block in blocks if block['BlockType'] == 'KEY_VALUE_SET']\n",
        "\n",
        "        # Convert to JSON\n",
        "        form_data_json = json.dumps(form_data)\n",
        "\n",
        "        # Initialize S3 resource\n",
        "        s3 = boto3.resource('s3',\n",
        "                            aws_access_key_id='YOUR AWS ACCESS KEY ID',\n",
        "                            aws_secret_access_key='YOUR AWS SECRET ACCESS KEY',\n",
        "                            region_name='YOUR REGION')\n",
        "\n",
        "        # Save JSON to output S3 bucket\n",
        "        output_bucket_name = 'pdf-output-bucket'\n",
        "        output_file_key = 'extracted_form_data.json'\n",
        "\n",
        "        try:\n",
        "            s3.Object(output_bucket_name, output_file_key).put(Body=form_data_json)\n",
        "            print(f\"JSON data saved to {output_bucket_name}/{output_file_key}\")\n",
        "        except Exception as e:\n",
        "            print(f\"Error saving JSON data: {e}\")\n",
        "    else:\n",
        "        print(\"The response does not contain 'Blocks'\")\n",
        "else:\n",
        "    print(f\"Textract job failed with status: {response['JobStatus']}\")\n"
      ],
      "metadata": {
        "id": "yIpUprAnXmd6",
        "colab": {
          "base_uri": "https://localhost:8080/"
        },
        "outputId": "934f39d5-4813-40bc-fb82-c5e0866ee5cd"
      },
      "execution_count": null,
      "outputs": [
        {
          "output_type": "stream",
          "name": "stdout",
          "text": [
            "Job started with ID: f261915b5a9afe4d5db1e8d83f928d05e419739f8d1915f0324d9e30d82e95a4\n",
            "Job completed with status: SUCCEEDED\n",
            "JSON data saved to pdf-output-bucket/extracted_form_data.json\n"
          ]
        }
      ]
    }
  ]
}